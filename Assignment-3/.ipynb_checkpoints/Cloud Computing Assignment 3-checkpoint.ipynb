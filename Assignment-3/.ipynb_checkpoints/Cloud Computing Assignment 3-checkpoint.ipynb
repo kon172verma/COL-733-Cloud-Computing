{
 "cells": [
  {
   "cell_type": "code",
   "execution_count": 2,
   "metadata": {},
   "outputs": [],
   "source": [
    "from datetime import datetime\n",
    "import pickle"
   ]
  },
  {
   "cell_type": "code",
   "execution_count": 3,
   "metadata": {},
   "outputs": [],
   "source": [
    "class virtual_System:\n",
    "    \n",
    "    def __init__(self):\n",
    "        self.disk_A_data = ['0'*100]*200\n",
    "        self.disk_A_metadata = [0]*200\n",
    "        self.disk_B_data = ['0'*100]*300\n",
    "        self.disk_B_metadata = [0]*300\n",
    "    \n",
    "    def iscorrect(self,block_number):\n",
    "        if block_number>0 and block_number<=500:\n",
    "            return True\n",
    "        return False\n",
    "    \n",
    "    def resolve_block_number(self,block_number):\n",
    "        if block_number<=200:\n",
    "            return 'A',block_number-1\n",
    "        else:\n",
    "            return 'B',block_number-201\n",
    "    \n",
    "    def read_block_data(self,block_number):\n",
    "        disk, block_number = self.resolve_block_number(block_number)\n",
    "        if disk=='A':\n",
    "            return self.disk_A_data[block_number][:self.disk_A_metadata[block_number]]\n",
    "        elif disk=='B':\n",
    "            return self.disk_B_data[block_number][:self.disk_B_metadata[block_number]]\n",
    "        \n",
    "    def write_block_data(self,block_number,block_info):\n",
    "        disk, block_number = self.resolve_block_number(block_number)\n",
    "        data_length = len(block_info)\n",
    "        block_info += '0'*100\n",
    "        block_info = block_info[:100]\n",
    "        if disk=='A':\n",
    "            self.disk_A_metadata[block_number] = data_length\n",
    "            self.disk_A_data[block_number] = block_info\n",
    "        elif disk=='B':\n",
    "            self.disk_B_metadata[block_number] = data_length\n",
    "            self.disk_B_data[block_number] = block_info"
   ]
  },
  {
   "cell_type": "code",
   "execution_count": 15,
   "metadata": {},
   "outputs": [],
   "source": [
    "class snapshot_System(virtual_System):\n",
    "    \n",
    "    def __init__(self):\n",
    "        super().__init__()\n",
    "        self.backup_metadata = []\n",
    "        \n",
    "    def get_backup_name(self):\n",
    "        print('Choose the version that you wish to restore your system to:')\n",
    "        for (backup_number,backup_name) in enumerate(self.backup_metadata):\n",
    "            print(backup_number+1,backup_name)\n",
    "        backup_number = int(input())\n",
    "        if backup_number>0 and backup_number<=len(self.backup_metadata):\n",
    "            return self.backup_metadata[backup_number-1]\n",
    "        else:\n",
    "            print('Please enter a correct number:')\n",
    "            return self.get_backup_name()\n",
    "        \n",
    "    def create_backup(self):\n",
    "        backup_name = str(datetime.now())[:-4].replace(':','-').replace('.','-')\n",
    "        self.backup_metadata.append(backup_name)\n",
    "        file = open(backup_name,'wb')\n",
    "        pickle.dump([self.disk_A_data,self.disk_A_metadata,self.disk_B_data,self.disk_B_metadata],file)\n",
    "        file.close()\n",
    "        return backup_name\n",
    "        \n",
    "    def restore_backup(self):\n",
    "        backup_name = self.get_backup_name()\n",
    "        file = open(backup_name,'rb')\n",
    "        [self.disk_A_data,self.disk_A_metadata,self.disk_B_data,self.disk_B_metadata] = pickle.load(file)\n",
    "        file.close()\n",
    "        return backup_name\n",
    "        \n",
    "    def main(self):\n",
    "        while(True):\n",
    "            print('******************************************')\n",
    "            print('Choose:')\n",
    "            print('1. Read data from disk.')\n",
    "            print('2. Write data to disk.')\n",
    "            print('3. Create Backup of the disk.')\n",
    "            print('4. Restore to a particular backup.')\n",
    "            print('5. Exit')\n",
    "            print('******************************************')\n",
    "            option = int(input('Enter your option : '))\n",
    "            if option==1:\n",
    "                block_number = int(input('Enter a block number between 1-500 : '))\n",
    "                print('\\n'+self.read_block_data(block_number)+'\\n')\n",
    "            elif option==2:\n",
    "                block_number = int(input('Enter a block number between 1-500 : '))\n",
    "                block_info = input('Enter the information to be entered into the block : ')\n",
    "                self.write_block_data(block_number,block_info)\n",
    "                print('\\nData written to the desired block.\\n')\n",
    "            elif option==3:\n",
    "                print('\\nBackup name: '+self.create_backup()+'. Created Successfully.\\n')\n",
    "            elif option==4:\n",
    "                backup_name = self.restore_backup()\n",
    "                print('\\nRestored to:'+backup_name+'.\\n')\n",
    "            elif option==5:\n",
    "                break\n",
    "            else:\n",
    "                print('Please enter a valid option.')"
   ]
  },
  {
   "cell_type": "code",
   "execution_count": 16,
   "metadata": {},
   "outputs": [
    {
     "name": "stdout",
     "output_type": "stream",
     "text": [
      "******************************************\n",
      "Choose:\n",
      "1. Read data from disk.\n",
      "2. Write data to disk.\n",
      "3. Create Backup of the disk.\n",
      "4. Restore to a particular backup.\n",
      "5. Exit\n",
      "******************************************\n",
      "Enter your option : 2\n",
      "Enter a block number between 1-500 : 12\n",
      "Enter the information to be entered into the block : koanrk\n",
      "\n",
      "Data written to the desired block.\n",
      "\n",
      "******************************************\n",
      "Choose:\n",
      "1. Read data from disk.\n",
      "2. Write data to disk.\n",
      "3. Create Backup of the disk.\n",
      "4. Restore to a particular backup.\n",
      "5. Exit\n",
      "******************************************\n",
      "Enter your option : \n"
     ]
    },
    {
     "ename": "ValueError",
     "evalue": "invalid literal for int() with base 10: ''",
     "output_type": "error",
     "traceback": [
      "\u001b[1;31m---------------------------------------------------------------------------\u001b[0m",
      "\u001b[1;31mValueError\u001b[0m                                Traceback (most recent call last)",
      "\u001b[1;32m<ipython-input-16-1a63a2aef73d>\u001b[0m in \u001b[0;36m<module>\u001b[1;34m\u001b[0m\n\u001b[1;32m----> 1\u001b[1;33m \u001b[0msnapshot_System\u001b[0m\u001b[1;33m(\u001b[0m\u001b[1;33m)\u001b[0m\u001b[1;33m.\u001b[0m\u001b[0mmain\u001b[0m\u001b[1;33m(\u001b[0m\u001b[1;33m)\u001b[0m\u001b[1;33m\u001b[0m\u001b[1;33m\u001b[0m\u001b[0m\n\u001b[0m",
      "\u001b[1;32m<ipython-input-15-b9fe126c1dbb>\u001b[0m in \u001b[0;36mmain\u001b[1;34m(self)\u001b[0m\n\u001b[0;32m     41\u001b[0m             \u001b[0mprint\u001b[0m\u001b[1;33m(\u001b[0m\u001b[1;34m'5. Exit'\u001b[0m\u001b[1;33m)\u001b[0m\u001b[1;33m\u001b[0m\u001b[1;33m\u001b[0m\u001b[0m\n\u001b[0;32m     42\u001b[0m             \u001b[0mprint\u001b[0m\u001b[1;33m(\u001b[0m\u001b[1;34m'******************************************'\u001b[0m\u001b[1;33m)\u001b[0m\u001b[1;33m\u001b[0m\u001b[1;33m\u001b[0m\u001b[0m\n\u001b[1;32m---> 43\u001b[1;33m             \u001b[0moption\u001b[0m \u001b[1;33m=\u001b[0m \u001b[0mint\u001b[0m\u001b[1;33m(\u001b[0m\u001b[0minput\u001b[0m\u001b[1;33m(\u001b[0m\u001b[1;34m'Enter your option : '\u001b[0m\u001b[1;33m)\u001b[0m\u001b[1;33m)\u001b[0m\u001b[1;33m\u001b[0m\u001b[1;33m\u001b[0m\u001b[0m\n\u001b[0m\u001b[0;32m     44\u001b[0m             \u001b[1;32mif\u001b[0m \u001b[0moption\u001b[0m\u001b[1;33m==\u001b[0m\u001b[1;36m1\u001b[0m\u001b[1;33m:\u001b[0m\u001b[1;33m\u001b[0m\u001b[1;33m\u001b[0m\u001b[0m\n\u001b[0;32m     45\u001b[0m                 \u001b[0mblock_number\u001b[0m \u001b[1;33m=\u001b[0m \u001b[0mint\u001b[0m\u001b[1;33m(\u001b[0m\u001b[0minput\u001b[0m\u001b[1;33m(\u001b[0m\u001b[1;34m'Enter a block number between 1-500 : '\u001b[0m\u001b[1;33m)\u001b[0m\u001b[1;33m)\u001b[0m\u001b[1;33m\u001b[0m\u001b[1;33m\u001b[0m\u001b[0m\n",
      "\u001b[1;31mValueError\u001b[0m: invalid literal for int() with base 10: ''"
     ]
    }
   ],
   "source": [
    "snapshot_System().main()"
   ]
  },
  {
   "cell_type": "code",
   "execution_count": 9,
   "metadata": {},
   "outputs": [
    {
     "name": "stdout",
     "output_type": "stream",
     "text": [
      "Choose the version that you wish to restore your system to:\n",
      "1 2019-09-14 10-09-17-03\n",
      "2 2019-09-14 10-09-17-03\n",
      "3 2019-09-14 10-09-17-04\n",
      "1\n",
      "Choose the version that you wish to restore your system to:\n",
      "1 2019-09-14 10-09-17-03\n",
      "2 2019-09-14 10-09-17-03\n",
      "3 2019-09-14 10-09-17-04\n",
      "2\n"
     ]
    }
   ],
   "source": [
    "mysystem = snapshot_System()\n",
    "mysystem.create_backup()\n",
    "mysystem.create_backup()\n",
    "mysystem.create_backup()\n",
    "mysystem.restore_backup()\n",
    "mysystem.restore_backup()\n"
   ]
  },
  {
   "cell_type": "code",
   "execution_count": null,
   "metadata": {},
   "outputs": [],
   "source": []
  }
 ],
 "metadata": {
  "kernelspec": {
   "display_name": "Python 3",
   "language": "python",
   "name": "python3"
  },
  "language_info": {
   "codemirror_mode": {
    "name": "ipython",
    "version": 3
   },
   "file_extension": ".py",
   "mimetype": "text/x-python",
   "name": "python",
   "nbconvert_exporter": "python",
   "pygments_lexer": "ipython3",
   "version": "3.6.9"
  }
 },
 "nbformat": 4,
 "nbformat_minor": 2
}
