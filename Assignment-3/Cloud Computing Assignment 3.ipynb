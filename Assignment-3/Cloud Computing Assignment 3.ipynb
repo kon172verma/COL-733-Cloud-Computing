{
 "cells": [
  {
   "cell_type": "code",
   "execution_count": 2,
   "metadata": {},
   "outputs": [],
   "source": [
    "from datetime import datetime\n",
    "import pickle"
   ]
  },
  {
   "cell_type": "code",
   "execution_count": 3,
   "metadata": {},
   "outputs": [],
   "source": [
    "class virtual_System:\n",
    "    \n",
    "    def __init__(self):\n",
    "        self.disk_A_data = ['0'*100]*200\n",
    "        self.disk_A_metadata = [0]*200\n",
    "        self.disk_B_data = ['0'*100]*300\n",
    "        self.disk_B_metadata = [0]*300\n",
    "    \n",
    "    def iscorrect(self,block_number):\n",
    "        if block_number>0 and block_number<=500:\n",
    "            return True\n",
    "        return False\n",
    "    \n",
    "    def resolve_block_number(self,block_number):\n",
    "        if block_number<=200:\n",
    "            return 'A',block_number-1\n",
    "        else:\n",
    "            return 'B',block_number-201\n",
    "    \n",
    "    def read_block_data(self,block_number):\n",
    "        disk, block_number = self.resolve_block_number(block_number)\n",
    "        if disk=='A':\n",
    "            return self.disk_A_data[block_number][:self.disk_A_metadata[block_number]]\n",
    "        elif disk=='B':\n",
    "            return self.disk_B_data[block_number][:self.disk_B_metadata[block_number]]\n",
    "        \n",
    "    def write_block_data(self,block_number,block_info):\n",
    "        disk, block_number = self.resolve_block_number(block_number)\n",
    "        data_length = len(block_info)\n",
    "        block_info += '0'*100\n",
    "        block_info = block_info[:100]\n",
    "        if disk=='A':\n",
    "            self.disk_A_metadata[block_number] = data_length\n",
    "            self.disk_A_data[block_number] = block_info\n",
    "        elif disk=='B':\n",
    "            self.disk_B_metadata[block_number] = data_length\n",
    "            self.disk_B_data[block_number] = block_info"
   ]
  },
  {
   "cell_type": "code",
   "execution_count": 8,
   "metadata": {},
   "outputs": [],
   "source": [
    "class snapshot_System(virtual_System):\n",
    "    \n",
    "    def __init__(self):\n",
    "        super().__init__()\n",
    "        self.backup_metadata = []\n",
    "        \n",
    "    def get_backup_name(self):\n",
    "        print('Choose the version that you wish to restore your system to:')\n",
    "        for (backup_number,backup_name) in enumerate(self.backup_metadata):\n",
    "            print(backup_number+1,backup_name)\n",
    "        backup_number = int(input())\n",
    "        if backup_number>0 and backup_number<=len(self.backup_metadata):\n",
    "            return self.backup_metadata[backup_number-1]\n",
    "        else:\n",
    "            print('Please enter a correct number:')\n",
    "            return self.get_backup_name()\n",
    "        \n",
    "    def create_backup(self):\n",
    "        backup_name = str(datetime.now())[:-4].replace(':','-').replace('.','-')\n",
    "        self.backup_metadata.append(backup_name)\n",
    "        file = open(backup_name,'wb')\n",
    "        pickle.dump([self.disk_A_data,self.disk_A_metadata,self.disk_B_data,self.disk_B_metadata],file)\n",
    "        file.close()\n",
    "        \n",
    "    def restore_backup(self):\n",
    "        backup_name = self.get_backup_name()\n",
    "        file = open(backup_name,'rb')\n",
    "        [self.disk_A_data,self.disk_A_metadata,self.disk_B_data,self.disk_B_metadata] = pickle.load(file)\n",
    "        file.close()\n",
    "        \n",
    "    def main():\n",
    "        "
   ]
  },
  {
   "cell_type": "code",
   "execution_count": 9,
   "metadata": {},
   "outputs": [
    {
     "name": "stdout",
     "output_type": "stream",
     "text": [
      "Choose the version that you wish to restore your system to:\n",
      "1 2019-09-14 10-09-17-03\n",
      "2 2019-09-14 10-09-17-03\n",
      "3 2019-09-14 10-09-17-04\n",
      "1\n",
      "Choose the version that you wish to restore your system to:\n",
      "1 2019-09-14 10-09-17-03\n",
      "2 2019-09-14 10-09-17-03\n",
      "3 2019-09-14 10-09-17-04\n",
      "2\n"
     ]
    }
   ],
   "source": [
    "mysystem = snapshot_System()\n",
    "mysystem.create_backup()\n",
    "mysystem.create_backup()\n",
    "mysystem.create_backup()\n",
    "mysystem.restore_backup()\n",
    "mysystem.restore_backup()\n"
   ]
  },
  {
   "cell_type": "code",
   "execution_count": null,
   "metadata": {},
   "outputs": [],
   "source": []
  }
 ],
 "metadata": {
  "kernelspec": {
   "display_name": "Python 3",
   "language": "python",
   "name": "python3"
  },
  "language_info": {
   "codemirror_mode": {
    "name": "ipython",
    "version": 3
   },
   "file_extension": ".py",
   "mimetype": "text/x-python",
   "name": "python",
   "nbconvert_exporter": "python",
   "pygments_lexer": "ipython3",
   "version": "3.6.9"
  }
 },
 "nbformat": 4,
 "nbformat_minor": 2
}
